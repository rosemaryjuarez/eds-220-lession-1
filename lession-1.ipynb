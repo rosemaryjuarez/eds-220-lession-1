{
 "cells": [
  {
   "cell_type": "markdown",
   "id": "a9d3f506-c6d9-4350-abb5-6068cc20fd6a",
   "metadata": {
    "tags": []
   },
   "source": [
    "# numpy\n",
    "\n",
    " - one of the core packages for numerical computing in python\n",
    " - many packages are built on top of numpy\n",
    " - `numpy` has been optimized for processing: faster due to memory access"
   ]
  },
  {
   "cell_type": "code",
   "execution_count": null,
   "id": "bf7efbc7-39fa-4fd0-95de-b3218418f205",
   "metadata": {},
   "outputs": [],
   "source": []
  },
  {
   "cell_type": "markdown",
   "id": "b63165e4-b91d-4628-a360-3a59453c385d",
   "metadata": {
    "tags": []
   },
   "source": [
    "# Variables\n",
    "we can think of variables as a name we assign to a particular object in python. for example:"
   ]
  },
  {
   "cell_type": "code",
   "execution_count": 7,
   "id": "6f74ed33-b91c-4e9d-9010-956282444755",
   "metadata": {
    "tags": []
   },
   "outputs": [],
   "source": [
    "#assign a small array to a variable a\n",
    "import numpy as np\n",
    "a = np.array([ [1,1,22], [3,5,8] ])"
   ]
  },
  {
   "cell_type": "markdown",
   "id": "065c8563-5cf6-4aa6-9ee1-0ae6452cbf70",
   "metadata": {},
   "source": [
    "when we run the cell, we store the variable and its value. We can see the variables value im two ways:"
   ]
  },
  {
   "cell_type": "code",
   "execution_count": 8,
   "id": "6149f24a-58f5-403c-8e04-2380e8f099ef",
   "metadata": {
    "tags": []
   },
   "outputs": [
    {
     "data": {
      "text/plain": [
       "array([[ 1,  1, 22],\n",
       "       [ 3,  5,  8]])"
      ]
     },
     "execution_count": 8,
     "metadata": {},
     "output_type": "execute_result"
    }
   ],
   "source": [
    "a"
   ]
  },
  {
   "cell_type": "code",
   "execution_count": 9,
   "id": "a677abcc-4dbc-4297-a129-dc70c0599bf5",
   "metadata": {
    "tags": []
   },
   "outputs": [
    {
     "name": "stdout",
     "output_type": "stream",
     "text": [
      "[[ 1  1 22]\n",
      " [ 3  5  8]]\n"
     ]
    }
   ],
   "source": [
    "print(a)"
   ]
  },
  {
   "cell_type": "markdown",
   "id": "de297d4f-f0af-493f-8471-d866764b6a2f",
   "metadata": {},
   "source": [
    "## naming variables\n",
    "\n",
    "in the class we are going to use `snake_case` for naming variables.\n",
    "\n",
    "# variables and objects\n",
    "\n",
    "**object**: often encountered in python documnetation and tutorials.\n",
    "\n",
    "object is a bundle of properties and actions about something specific\n",
    "\n",
    "Example:\n",
    "- object: data frame\n",
    "- properties: number of rows, names of colums, data creaated\n",
    "- actions: selecting a row, adding a column\n",
    "\n",
    "A variable is a name we give a specific object and the same object can be reference by different variable\n",
    "\n",
    "Example:\n",
    "- The Sun (the actual star at the center of solar system) = object\n",
    "- sol = spanish word for sun = variable\n",
    "- soleil = French for Sun = another variable\n",
    "\n",
    "in practice: we will use object and variable interchangeably"
   ]
  },
  {
   "cell_type": "markdown",
   "id": "25ab20f4-ac27-4e7d-a12b-8b9ceb3fab79",
   "metadata": {},
   "source": [
    "# Types\n",
    "\n",
    "Each object in python has a type.\n",
    "\n",
    "type = what kind of object it is\n",
    "\n",
    "we can also call the type of the object, the **class** of the object.\n",
    "\n",
    "We can see the type/class of an object by using the `type` function:\n"
   ]
  },
  {
   "cell_type": "code",
   "execution_count": 10,
   "id": "832e7077-e976-4d0a-b367-3bf27fe6737b",
   "metadata": {
    "tags": []
   },
   "outputs": [
    {
     "name": "stdout",
     "output_type": "stream",
     "text": [
      "[[ 1  1 22]\n",
      " [ 3  5  8]]\n"
     ]
    },
    {
     "data": {
      "text/plain": [
       "numpy.ndarray"
      ]
     },
     "execution_count": 10,
     "metadata": {},
     "output_type": "execute_result"
    }
   ],
   "source": [
    "print(a)\n",
    "type(a)"
   ]
  },
  {
   "cell_type": "markdown",
   "id": "99a806b7-ed61-48be-ae87-81d3f272ddd1",
   "metadata": {},
   "source": [
    "the `numpy.ndarray` is the core object/data type in the NumPy package. We can check the type of an entry in the array by indexing: "
   ]
  },
  {
   "cell_type": "code",
   "execution_count": 11,
   "id": "e6e968a9-5b7a-4df2-81e3-bade08994857",
   "metadata": {
    "tags": []
   },
   "outputs": [
    {
     "name": "stdout",
     "output_type": "stream",
     "text": [
      "1\n"
     ]
    },
    {
     "data": {
      "text/plain": [
       "numpy.int64"
      ]
     },
     "execution_count": 11,
     "metadata": {},
     "output_type": "execute_result"
    }
   ],
   "source": [
    "print(a[0,0])\n",
    "type(a[0,0])"
   ]
  },
  {
   "cell_type": "code",
   "execution_count": 12,
   "id": "12fd809d-773e-43bf-a6b7-d3872dc6ebb9",
   "metadata": {
    "tags": []
   },
   "outputs": [],
   "source": [
    "# how would you access yhr value 5 in the array?"
   ]
  },
  {
   "cell_type": "code",
   "execution_count": 15,
   "id": "7fc0744b-05b3-40e9-9944-fe7787096027",
   "metadata": {
    "tags": []
   },
   "outputs": [
    {
     "name": "stdout",
     "output_type": "stream",
     "text": [
      "5\n"
     ]
    }
   ],
   "source": [
    "print(a[1,1])"
   ]
  },
  {
   "cell_type": "markdown",
   "id": "7b2915ef-abe9-4401-b625-6e76205e3963",
   "metadata": {},
   "source": [
    "# Function\n",
    "\n",
    "`print` was our example of a python function! :)\n",
    "\n",
    "a function:\n",
    "- take in a set of **arguments**, separated by commas, and \n",
    "- use those arguments to produce some **output**\n",
    "\n",
    "argument = parameter : you might argument most often in the documentation\n",
    "we can ask information about a function by executing `?` followed by the function name"
   ]
  },
  {
   "cell_type": "code",
   "execution_count": 16,
   "id": "e5b859b0-0295-4287-9eff-5655c5526834",
   "metadata": {
    "tags": []
   },
   "outputs": [
    {
     "data": {
      "text/plain": [
       "\u001b[0;31mDocstring:\u001b[0m\n",
       "print(value, ..., sep=' ', end='\\n', file=sys.stdout, flush=False)\n",
       "\n",
       "Prints the values to a stream, or to sys.stdout by default.\n",
       "Optional keyword arguments:\n",
       "file:  a file-like object (stream); defaults to the current sys.stdout.\n",
       "sep:   string inserted between values, default a space.\n",
       "end:   string appended after the last value, default a newline.\n",
       "flush: whether to forcibly flush the stream.\n",
       "\u001b[0;31mType:\u001b[0m      builtin_function_or_method\n"
      ]
     },
     "metadata": {},
     "output_type": "display_data"
    }
   ],
   "source": [
    "?print"
   ]
  },
  {
   "cell_type": "markdown",
   "id": "7ec9627e-41ab-4d7e-a3a5-a6ba6b895e8f",
   "metadata": {},
   "source": [
    "- first line: function showing all of its arguments in parenthesis\n",
    "- then a short description of what the function does\n",
    "- finally, a list of the arguments and a brief explanation of each of them.\n",
    "\n",
    "different types of arguments inside the parenthesis. Roughly speaking, there are two types of argumentss:\n",
    "- **non-optional arguments**: arguments you need to specify for the function to do something\n",
    "- **optional arguments++: arguments that are prefilled with a default value by the function, but we can overrride them, optional arguments appear inside the parenthesis () in the form\n",
    "\n",
    "`optional argument = default_value`\n"
   ]
  },
  {
   "cell_type": "code",
   "execution_count": 17,
   "id": "52b96785-2867-4e14-a22c-c418e529d0c5",
   "metadata": {
    "tags": []
   },
   "outputs": [
    {
     "name": "stdout",
     "output_type": "stream",
     "text": [
      "changing the default end argument of the print function:)"
     ]
    }
   ],
   "source": [
    "print('changing the default end argument of the print function', end = ':)')"
   ]
  },
  {
   "cell_type": "code",
   "execution_count": 18,
   "id": "03e234fb-e998-4537-810c-8aa3dfce9457",
   "metadata": {
    "tags": []
   },
   "outputs": [
    {
     "name": "stdout",
     "output_type": "stream",
     "text": [
      "changing the default end argument of the print function\n"
     ]
    }
   ],
   "source": [
    "print('changing the default end argument of the print function')"
   ]
  },
  {
   "cell_type": "markdown",
   "id": "c2e49373-9144-4f9a-8c7a-dadc4adb673b",
   "metadata": {},
   "source": [
    "# Attributes and methods\n",
    "\n",
    "an object in Python has attributes and methods\n",
    "\n",
    "- **attributes**: a property of an object, a piece of information about it\n",
    "- **methods**: a proceduce associated with an object, an action where the main ingredient is the object itself.\\\n",
    "\n",
    "access a variable's attributes and methods by adding a period`.` at the end of the variable's name\n",
    "\n",
    "`variable.variable_method()` or\n",
    "`variable.variable_attribute`\n",
    "\n",
    "examples:\n",
    "\n",
    "methods and attributes of NumPy arrays:\n"
   ]
  },
  {
   "cell_type": "code",
   "execution_count": null,
   "id": "1cae605e-c4f6-4762-9cb1-76f068a4655e",
   "metadata": {
    "jupyter": {
     "source_hidden": true
    },
    "tags": []
   },
   "outputs": [],
   "source": []
  },
  {
   "cell_type": "code",
   "execution_count": null,
   "id": "13901ee3-c88a-4eaa-8751-3c8880a700b9",
   "metadata": {},
   "outputs": [],
   "source": []
  },
  {
   "cell_type": "code",
   "execution_count": 3,
   "id": "5815f4e9-f6e8-45e9-bfe0-8ddb30b20e34",
   "metadata": {
    "tags": []
   },
   "outputs": [],
   "source": [
    "import numpy as np"
   ]
  },
  {
   "cell_type": "code",
   "execution_count": 4,
   "id": "d59ae7ab-5cf8-44b3-b702-3439ca5a7fb6",
   "metadata": {
    "tags": []
   },
   "outputs": [],
   "source": [
    "# define a 3x3 array\n",
    "\n",
    "var = np.array([\n",
    "    [1,2,3],\n",
    "    [4,5,6],\n",
    "    [7,8,9]\n",
    "])"
   ]
  },
  {
   "cell_type": "code",
   "execution_count": null,
   "id": "daeacbdd-fc08-481e-a6ac-c9aff4913674",
   "metadata": {},
   "outputs": [],
   "source": [
    "# shape : attribute telling us the number of elements in each dimention of the array"
   ]
  },
  {
   "cell_type": "code",
   "execution_count": 5,
   "id": "79afb460-5613-49f0-b47f-8629196453fb",
   "metadata": {
    "tags": []
   },
   "outputs": [
    {
     "data": {
      "text/plain": [
       "tuple"
      ]
     },
     "execution_count": 5,
     "metadata": {},
     "output_type": "execute_result"
    }
   ],
   "source": [
    "type(var.shape)"
   ]
  },
  {
   "cell_type": "code",
   "execution_count": 6,
   "id": "ab000382-5061-4867-a4af-13e09a4faf65",
   "metadata": {
    "tags": []
   },
   "outputs": [
    {
     "data": {
      "text/plain": [
       "2"
      ]
     },
     "execution_count": 6,
     "metadata": {},
     "output_type": "execute_result"
    }
   ],
   "source": [
    "# ndim is an attribute holding the number of array dimensions\n",
    "var.ndim"
   ]
  },
  {
   "cell_type": "code",
   "execution_count": 7,
   "id": "75a30937-3de5-4b03-ad53-0678cf515004",
   "metadata": {
    "tags": []
   },
   "outputs": [
    {
     "data": {
      "text/plain": [
       "int"
      ]
     },
     "execution_count": 7,
     "metadata": {},
     "output_type": "execute_result"
    }
   ],
   "source": [
    "type(var.ndim)"
   ]
  },
  {
   "cell_type": "markdown",
   "id": "9fbe8a01-3c26-44a4-a95b-fe01f5e3a71d",
   "metadata": {},
   "source": [
    "notice attributes can have many different data types"
   ]
  },
  {
   "cell_type": "code",
   "execution_count": null,
   "id": "f0d56c43-7712-4a0e-9342-c7157c3e0236",
   "metadata": {},
   "outputs": [],
   "source": [
    "# example of methods\n",
    "#return the min value of the array"
   ]
  },
  {
   "cell_type": "code",
   "execution_count": 9,
   "id": "c9092a45-73d5-4e94-a3d8-fbc605da8d37",
   "metadata": {
    "tags": []
   },
   "outputs": [
    {
     "data": {
      "text/plain": [
       "1"
      ]
     },
     "execution_count": 9,
     "metadata": {},
     "output_type": "execute_result"
    }
   ],
   "source": [
    "var.min()"
   ]
  },
  {
   "cell_type": "code",
   "execution_count": 13,
   "id": "a208c1c6-7331-4330-955a-f8e0524a9baa",
   "metadata": {
    "tags": []
   },
   "outputs": [
    {
     "data": {
      "text/plain": [
       "builtin_function_or_method"
      ]
     },
     "execution_count": 13,
     "metadata": {},
     "output_type": "execute_result"
    }
   ],
   "source": [
    "type(var.min)"
   ]
  },
  {
   "cell_type": "markdown",
   "id": "b1c8e0ed-47fd-4db9-a70a-4cc378447cf7",
   "metadata": {},
   "source": [
    "# R and Python\n",
    "\n",
    "r:\n",
    "- doesnt use methods within an object\n",
    "- functions in R are extrinsic to (outside) the objects they are acting on\n",
    "\n",
    "example: recreate the min value of an array\n",
    "\n",
    "In R, there would be two separate items: the variable `var` and a *separate* functyion `min` that gets `var` as a parameter\n",
    "\n",
    "``` this is R code\n",
    "var = array(c(1,4,7,2,5,8,3,6,9), dim = c(3,3)\n",
    "min(var)\n",
    "```\n",
    "\n",
    "using the pipe operator in R's tidyverse is closer to the `.` in Python:\n",
    "\n",
    "```\n",
    "var = array(c(1,4,7,2,5,8,3,6,9), dim = c(3,3)\n",
    "var >%> min()\n",
    "```\n",
    "What is happening?\n",
    "\n",
    "the pipe `>%>` is passing `var` to the `min()` as its first argument. this is essentially what the `.` in python:\n",
    "\n",
    "```\n",
    "var = np.array( [ [1,2,3], [4,5,6], [7,8,9] } )\n",
    "\n",
    "```\n"
   ]
  }
 ],
 "metadata": {
  "kernelspec": {
   "display_name": "Anaconda 3 (Base)",
   "language": "python",
   "name": "base"
  },
  "language_info": {
   "codemirror_mode": {
    "name": "ipython",
    "version": 3
   },
   "file_extension": ".py",
   "mimetype": "text/x-python",
   "name": "python",
   "nbconvert_exporter": "python",
   "pygments_lexer": "ipython3",
   "version": "3.9.13"
  }
 },
 "nbformat": 4,
 "nbformat_minor": 5
}
