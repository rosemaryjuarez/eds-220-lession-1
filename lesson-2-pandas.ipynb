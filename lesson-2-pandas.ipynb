{
 "cells": [
  {
   "cell_type": "markdown",
   "id": "1813140c-8c54-4b97-bf3d-b33dd2e67c4d",
   "metadata": {},
   "source": [
    "# Objective\n",
    "\n",
    "review core `pandas` objects\" `pandas.Series` and `pandas.DataFrame`\n",
    "\n",
    "#`pandas`\n",
    "- python package to wrangle and analyze tabular data\n",
    "- built on top of NumPy\n",
    "- core tool for data analysis in python"
   ]
  },
  {
   "cell_type": "code",
   "execution_count": 1,
   "id": "25d51bbc-6abc-41ee-a620-d0e20b367525",
   "metadata": {
    "tags": []
   },
   "outputs": [],
   "source": [
    "# import pandas with standard abbreviation\n",
    "import pandas as pd\n",
    "\n",
    "# import numpy too!\n",
    "import numpy as np\n"
   ]
  },
  {
   "cell_type": "markdown",
   "id": "c428e5df-d881-493f-897d-ddb034a9228f",
   "metadata": {},
   "source": [
    "# Series\n",
    "\n",
    "A `pandas.Series`:\n",
    "- is one of the core data structure in `pandas`\n",
    "- a 1-dimensional array of *indexed data\n",
    "- will be the columns of the `pandas.DataFrame`\n",
    "\n",
    "\n",
    "# Creating a pandas Series\n",
    "\n",
    "Several ways to creating a pandas Series. \n",
    "for now, we will create series using:\n",
    "```\n",
    "s = pd.Series(data, index = index)\n",
    "```\n",
    "`data` = numpy array (or a list of onjects that can be converted to NumPy types)\n",
    "`index` = list of indices of same length as data"
   ]
  },
  {
   "cell_type": "code",
   "execution_count": null,
   "id": "e1cf33e1-df02-4b10-b00d-59a39b2f31a7",
   "metadata": {},
   "outputs": [],
   "source": []
  },
  {
   "cell_type": "code",
   "execution_count": 3,
   "id": "82dbe6df-e09b-4725-8338-f842d7209c7b",
   "metadata": {
    "tags": []
   },
   "outputs": [
    {
     "data": {
      "text/plain": [
       "array([0, 1, 2])"
      ]
     },
     "execution_count": 3,
     "metadata": {},
     "output_type": "execute_result"
    }
   ],
   "source": [
    "# EX: a pandas series from a numpy array\n",
    "\n",
    "# np.arrange() function constructs an array of consecutive intergers\n",
    "np.arange(3)"
   ]
  },
  {
   "cell_type": "code",
   "execution_count": 4,
   "id": "dc0805d9-a075-4091-8080-65c8d6e0df56",
   "metadata": {
    "tags": []
   },
   "outputs": [
    {
     "data": {
      "text/plain": [
       "a    0\n",
       "b    1\n",
       "c    2\n",
       "dtype: int64"
      ]
     },
     "execution_count": 4,
     "metadata": {},
     "output_type": "execute_result"
    }
   ],
   "source": [
    "# we can use this to create a pandas Series\n",
    "pd.Series(np.arange(3), index = ['a', 'b', 'c'])"
   ]
  },
  {
   "cell_type": "markdown",
   "id": "4b7f8f3c-c53b-4249-baef-e289b2121c1e",
   "metadata": {},
   "source": [
    "What kind of parameter is `index`?\n",
    "\n",
    "A: an optional parameter, there is a default value to it\n",
    "\n",
    "if we dont specify `index`, the default is to start the index from 0\n",
    "\n",
    "example:"
   ]
  },
  {
   "cell_type": "code",
   "execution_count": 5,
   "id": "ff07f1ae-c08c-4353-a6e7-fbd12dd49bbf",
   "metadata": {
    "tags": []
   },
   "outputs": [
    {
     "data": {
      "text/plain": [
       "0    EDS 220\n",
       "1    EDS 221\n",
       "2    EDS 222\n",
       "dtype: object"
      ]
     },
     "execution_count": 5,
     "metadata": {},
     "output_type": "execute_result"
    }
   ],
   "source": [
    "# create a series from a list of strings with default inde\n",
    "\n",
    "pd.Series( ['EDS 220', 'EDS 221', 'EDS 222'])"
   ]
  },
  {
   "cell_type": "markdown",
   "id": "a7591ab6-1534-4eeb-9150-9ac6a2de1533",
   "metadata": {},
   "source": [
    "# Operation of series\n",
    "arithmetic operations work on series on alse most numpy functions\n",
    "\n",
    "example:"
   ]
  },
  {
   "cell_type": "code",
   "execution_count": 6,
   "id": "e00a5391-e96c-4bbe-9f82-185a5fb70e1f",
   "metadata": {
    "tags": []
   },
   "outputs": [
    {
     "name": "stdout",
     "output_type": "stream",
     "text": [
      "Andrea      98\n",
      "Beth        73\n",
      "Carolina    65\n",
      "dtype: int64 \n",
      "\n",
      "Andrea      9.8\n",
      "Beth        7.3\n",
      "Carolina    6.5\n",
      "dtype: float64\n"
     ]
    }
   ],
   "source": [
    "s = pd.Series([98, 73, 65], index = ['Andrea', 'Beth', 'Carolina'])\n",
    "print(s, '\\n')\n",
    "#divide each element in the series by 10\n",
    "print(s/10)"
   ]
  },
  {
   "cell_type": "code",
   "execution_count": 7,
   "id": "c68833f9-e3f0-4a5d-b7d7-64ad2e6315b0",
   "metadata": {
    "tags": []
   },
   "outputs": [
    {
     "data": {
      "text/plain": [
       "Andrea       True\n",
       "Beth         True\n",
       "Carolina    False\n",
       "dtype: bool"
      ]
     },
     "execution_count": 7,
     "metadata": {},
     "output_type": "execute_result"
    }
   ],
   "source": [
    "s>70"
   ]
  },
  {
   "cell_type": "markdown",
   "id": "8a134a67-9bfc-4f64-bdb8-4f66aacb0773",
   "metadata": {},
   "source": [
    "This is simple -- but important! Using conditions on Series is key to select data from dataframes"
   ]
  },
  {
   "cell_type": "markdown",
   "id": "e754a338-d182-4279-bf5b-633bce2395d6",
   "metadata": {},
   "source": [
    "# Attributes and Methods\n",
    "\n",
    "two examples about identifying missing values\n",
    "\n",
    "- missing values i pandas are represented by `np.NaN` = not a number\n",
    "- `NaN` is a type of float in numpy"
   ]
  },
  {
   "cell_type": "code",
   "execution_count": 8,
   "id": "3f704d5f-abbb-4a0c-ace0-eb407f3be318",
   "metadata": {
    "tags": []
   },
   "outputs": [
    {
     "data": {
      "text/plain": [
       "nan"
      ]
     },
     "execution_count": 8,
     "metadata": {},
     "output_type": "execute_result"
    }
   ],
   "source": [
    "np.NaN"
   ]
  },
  {
   "cell_type": "code",
   "execution_count": 9,
   "id": "8b9f34dd-75aa-4753-8b2b-1cfa395b2801",
   "metadata": {
    "tags": []
   },
   "outputs": [
    {
     "data": {
      "text/plain": [
       "float"
      ]
     },
     "execution_count": 9,
     "metadata": {},
     "output_type": "execute_result"
    }
   ],
   "source": [
    "type(np.NaN)"
   ]
  },
  {
   "cell_type": "code",
   "execution_count": 11,
   "id": "f3af0513-5d94-4488-94e4-823c10039719",
   "metadata": {
    "tags": []
   },
   "outputs": [
    {
     "data": {
      "text/plain": [
       "0    1.0\n",
       "1    2.0\n",
       "2    NaN\n",
       "3    4.0\n",
       "4    NaN\n",
       "dtype: float64"
      ]
     },
     "execution_count": 11,
     "metadata": {},
     "output_type": "execute_result"
    }
   ],
   "source": [
    "# series with NAs in it\n",
    "\n",
    "s = pd.Series([1,2,np.NaN, 4, np.NaN])\n",
    "s"
   ]
  },
  {
   "cell_type": "code",
   "execution_count": null,
   "id": "cba838b6-e83d-443c-9a16-e5456cfd59ff",
   "metadata": {},
   "outputs": [
    {
     "data": {
      "text/plain": [
       "True"
      ]
     },
     "execution_count": 12,
     "metadata": {},
     "output_type": "execute_result"
    }
   ],
   "source": [
    "#check if series has nan\n",
    "s.hasnans"
   ]
  },
  {
   "cell_type": "markdown",
   "id": "8dc02bca-c73f-437e-87ab-e7b622cdc496",
   "metadata": {},
   "source": [
    "`isnna()` = a method of series, returns a series indicating which elements are NAs\n"
   ]
  },
  {
   "cell_type": "code",
   "execution_count": 13,
   "id": "6440ba9e-44a7-4e1f-a194-1d8ab5eba190",
   "metadata": {
    "tags": []
   },
   "outputs": [
    {
     "data": {
      "text/plain": [
       "0    False\n",
       "1    False\n",
       "2     True\n",
       "3    False\n",
       "4     True\n",
       "dtype: bool"
      ]
     },
     "execution_count": 13,
     "metadata": {},
     "output_type": "execute_result"
    }
   ],
   "source": [
    "s.isna()"
   ]
  },
  {
   "cell_type": "markdown",
   "id": "4a4b1ea6-363e-4460-a1ac-62d4627f7543",
   "metadata": {
    "tags": []
   },
   "source": [
    "`bool` : `True` or `False` are **boolean values**"
   ]
  },
  {
   "cell_type": "markdown",
   "id": "fa3df6c1-87f7-404e-ab46-0cc4afae93b5",
   "metadata": {},
   "source": [
    "# Dataframes\n",
    "\n",
    "`pandas.DataFrame`\n",
    "\n",
    "- most used object in `pandas`\n",
    "- represents tabular data (think of spreadsheets)\n",
    "- each column is 'pandas.Series'\n",
    "\n",
    "# Creating a `pandas.DataFrame`\n",
    "\n",
    "*Many ways if creating a dataframe*, lets see which ones.\n",
    "\n",
    "remember dictionaries? they are sets of key-value pairs\n",
    "\n",
    "```\n",
    "{\n",
    "key1: value1,\n",
    "key2: value2\n",
    "}\n",
    "```\n",
    "\n",
    "think of a pd.DataFrame as a dictionary where:\n",
    "- key = column names\n",
    "- values = column values\n",
    "\n",
    "we can create a dataframes like this:"
   ]
  },
  {
   "cell_type": "code",
   "execution_count": 17,
   "id": "ba3d44c1-4920-4037-961a-8e3cd92dcc99",
   "metadata": {
    "tags": []
   },
   "outputs": [
    {
     "data": {
      "text/plain": [
       "{'col_name_1': array([0, 1, 2]), 'col_name_2': [3.1, 3.2, 3.3]}"
      ]
     },
     "execution_count": 17,
     "metadata": {},
     "output_type": "execute_result"
    }
   ],
   "source": [
    "# initialize dictionary with columns data\n",
    "d = {\n",
    "    'col_name_1': np.arange(3),\n",
    "    'col_name_2': [3.1, 3.2, 3.3]\n",
    "    }\n",
    "d"
   ]
  },
  {
   "cell_type": "code",
   "execution_count": 26,
   "id": "5daad804-c646-403d-bd88-a59ff9d416c2",
   "metadata": {
    "tags": []
   },
   "outputs": [
    {
     "data": {
      "text/html": [
       "<div>\n",
       "<style scoped>\n",
       "    .dataframe tbody tr th:only-of-type {\n",
       "        vertical-align: middle;\n",
       "    }\n",
       "\n",
       "    .dataframe tbody tr th {\n",
       "        vertical-align: top;\n",
       "    }\n",
       "\n",
       "    .dataframe thead th {\n",
       "        text-align: right;\n",
       "    }\n",
       "</style>\n",
       "<table border=\"1\" class=\"dataframe\">\n",
       "  <thead>\n",
       "    <tr style=\"text-align: right;\">\n",
       "      <th></th>\n",
       "      <th>col_name_1</th>\n",
       "      <th>col_name_2</th>\n",
       "    </tr>\n",
       "  </thead>\n",
       "  <tbody>\n",
       "    <tr>\n",
       "      <th>a</th>\n",
       "      <td>0</td>\n",
       "      <td>3.1</td>\n",
       "    </tr>\n",
       "    <tr>\n",
       "      <th>b</th>\n",
       "      <td>1</td>\n",
       "      <td>3.2</td>\n",
       "    </tr>\n",
       "    <tr>\n",
       "      <th>c</th>\n",
       "      <td>2</td>\n",
       "      <td>3.3</td>\n",
       "    </tr>\n",
       "  </tbody>\n",
       "</table>\n",
       "</div>"
      ],
      "text/plain": [
       "   col_name_1  col_name_2\n",
       "a           0         3.1\n",
       "b           1         3.2\n",
       "c           2         3.3"
      ]
     },
     "execution_count": 26,
     "metadata": {},
     "output_type": "execute_result"
    }
   ],
   "source": [
    "# create data frame\n",
    "df = pd.DataFrame(d, index = ['a', 'b', 'c'])\n",
    "df"
   ]
  },
  {
   "cell_type": "markdown",
   "id": "05cf04a4-2671-4edd-b284-e1ba25efc421",
   "metadata": {},
   "source": [
    "# In-place operations\n",
    "lets rename the data frame's columns\n",
    "we can use a dataframe *method* called `rename`\n",
    "`rename` takes in as an input a dictionary\n",
    "\n",
    "```\n",
    "{\n",
    "'col_1_old_name': 'col_2_new_name',\n",
    "'col_1_old_name': 'col_2_new_name'\n",
    "}\n",
    "```"
   ]
  },
  {
   "cell_type": "code",
   "execution_count": 31,
   "id": "27dc9166-e5a2-46fb-946f-ce80fc6799bc",
   "metadata": {
    "tags": []
   },
   "outputs": [
    {
     "data": {
      "text/html": [
       "<div>\n",
       "<style scoped>\n",
       "    .dataframe tbody tr th:only-of-type {\n",
       "        vertical-align: middle;\n",
       "    }\n",
       "\n",
       "    .dataframe tbody tr th {\n",
       "        vertical-align: top;\n",
       "    }\n",
       "\n",
       "    .dataframe thead th {\n",
       "        text-align: right;\n",
       "    }\n",
       "</style>\n",
       "<table border=\"1\" class=\"dataframe\">\n",
       "  <thead>\n",
       "    <tr style=\"text-align: right;\">\n",
       "      <th></th>\n",
       "      <th>col_name_1</th>\n",
       "      <th>col_name_2</th>\n",
       "    </tr>\n",
       "  </thead>\n",
       "  <tbody>\n",
       "    <tr>\n",
       "      <th>a</th>\n",
       "      <td>0</td>\n",
       "      <td>3.1</td>\n",
       "    </tr>\n",
       "    <tr>\n",
       "      <th>b</th>\n",
       "      <td>1</td>\n",
       "      <td>3.2</td>\n",
       "    </tr>\n",
       "    <tr>\n",
       "      <th>c</th>\n",
       "      <td>2</td>\n",
       "      <td>3.3</td>\n",
       "    </tr>\n",
       "  </tbody>\n",
       "</table>\n",
       "</div>"
      ],
      "text/plain": [
       "   col_name_1  col_name_2\n",
       "a           0         3.1\n",
       "b           1         3.2\n",
       "c           2         3.3"
      ]
     },
     "execution_count": 31,
     "metadata": {},
     "output_type": "execute_result"
    }
   ],
   "source": [
    "# define new column name\n",
    "col_names = {\n",
    "'col_1_old_name': 'col1',\n",
    "'col_2_old_name': 'col2'\n",
    "}\n",
    "\n",
    "#rename  using rename\n",
    "\n",
    "df.rename(columns = col_names)"
   ]
  },
  {
   "cell_type": "code",
   "execution_count": null,
   "id": "1da22eb3-a4d1-4ddd-bbc8-9b7e607ff084",
   "metadata": {},
   "outputs": [],
   "source": [
    "# i think i did an error, the column name should have changed"
   ]
  },
  {
   "cell_type": "code",
   "execution_count": 25,
   "id": "7688e9f8-fdb6-4b63-aa32-c2ab25f2df26",
   "metadata": {
    "tags": []
   },
   "outputs": [
    {
     "data": {
      "text/html": [
       "<div>\n",
       "<style scoped>\n",
       "    .dataframe tbody tr th:only-of-type {\n",
       "        vertical-align: middle;\n",
       "    }\n",
       "\n",
       "    .dataframe tbody tr th {\n",
       "        vertical-align: top;\n",
       "    }\n",
       "\n",
       "    .dataframe thead th {\n",
       "        text-align: right;\n",
       "    }\n",
       "</style>\n",
       "<table border=\"1\" class=\"dataframe\">\n",
       "  <thead>\n",
       "    <tr style=\"text-align: right;\">\n",
       "      <th></th>\n",
       "      <th>col_name_1</th>\n",
       "      <th>col_name_2</th>\n",
       "    </tr>\n",
       "  </thead>\n",
       "  <tbody>\n",
       "    <tr>\n",
       "      <th>a</th>\n",
       "      <td>0</td>\n",
       "      <td>3.1</td>\n",
       "    </tr>\n",
       "    <tr>\n",
       "      <th>b</th>\n",
       "      <td>1</td>\n",
       "      <td>3.2</td>\n",
       "    </tr>\n",
       "    <tr>\n",
       "      <th>c</th>\n",
       "      <td>2</td>\n",
       "      <td>3.3</td>\n",
       "    </tr>\n",
       "  </tbody>\n",
       "</table>\n",
       "</div>"
      ],
      "text/plain": [
       "   col_name_1  col_name_2\n",
       "a           0         3.1\n",
       "b           1         3.2\n",
       "c           2         3.3"
      ]
     },
     "execution_count": 25,
     "metadata": {},
     "output_type": "execute_result"
    }
   ],
   "source": [
    "df"
   ]
  },
  {
   "cell_type": "markdown",
   "id": "c500c8f9-b9ab-4cc9-acd9-3a71f755d102",
   "metadata": {},
   "source": [
    "nothin changed! `df.rename` doesnt change the column name *in place*, meanign it doesnt modify the object itself. instead, it created a new object as an output.\n",
    "\n",
    "assign output back to dataframe to actually change it"
   ]
  },
  {
   "cell_type": "code",
   "execution_count": null,
   "id": "1f3065a4-f283-4ee9-a2aa-5183fcc847e4",
   "metadata": {},
   "outputs": [],
   "source": [
    "\n",
    "df.rename(columns = col_name, inplace = True)"
   ]
  }
 ],
 "metadata": {
  "kernelspec": {
   "display_name": "Anaconda 3 (Base)",
   "language": "python",
   "name": "base"
  },
  "language_info": {
   "codemirror_mode": {
    "name": "ipython",
    "version": 3
   },
   "file_extension": ".py",
   "mimetype": "text/x-python",
   "name": "python",
   "nbconvert_exporter": "python",
   "pygments_lexer": "ipython3",
   "version": "3.9.13"
  }
 },
 "nbformat": 4,
 "nbformat_minor": 5
}
